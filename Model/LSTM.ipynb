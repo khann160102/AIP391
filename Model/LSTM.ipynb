{
  "cells": [
    {
      "cell_type": "code",
      "execution_count": 1,
      "metadata": {
        "id": "W_mw9FztF-Li"
      },
      "outputs": [],
      "source": [
        "from tensorflow import data\n",
        "\n",
        "from keras import Sequential, losses, metrics, optimizers\n",
        "from keras.backend import clear_session\n",
        "from keras.layers import LSTM, InputLayer\n",
        "from keras.models import load_model\n",
        "\n",
        "import pandas as pd\n",
        "import numpy as np\n",
        "import os\n",
        "\n",
        "import config as c\n"
      ]
    },
    {
      "cell_type": "code",
      "execution_count": 2,
      "metadata": {
        "id": "qQI4SWVlF-Lm"
      },
      "outputs": [],
      "source": [
        "def csv_to_tensor(target=c.input, step=c.step, take=None):\n",
        "    sub_dataset = []\n",
        "    for file in os.listdir(target)[:take]:\n",
        "        df = pd.read_csv(os.path.join(target, file))\n",
        "        df = data.Dataset.from_tensor_slices(df)\n",
        "        df = df.window(step, shift=1, drop_remainder=True).flat_map(\n",
        "            lambda x: x.batch(c.BATCH_SIZE))\n",
        "        sub_dataset.append(df)\n",
        "\n",
        "    tensor = sub_dataset[0]\n",
        "    for dataset in sub_dataset[1:]:\n",
        "        tensor = tensor.concatenate(dataset)\n",
        "    return tensor, os.listdir(target)[:take]\n"
      ]
    },
    {
      "cell_type": "code",
      "execution_count": 3,
      "metadata": {
        "colab": {
          "base_uri": "https://localhost:8080/"
        },
        "id": "GdxWqh6mF-Ln",
        "outputId": "3aa54af2-d55a-46d2-d79b-5c8fdf9208d1"
      },
      "outputs": [
        {
          "name": "stdout",
          "output_type": "stream",
          "text": [
            "Data imported from: 10 videos\n"
          ]
        }
      ],
      "source": [
        "take = 10\n",
        "inputs, _ = csv_to_tensor(target=c.input, take=take)\n",
        "outputs, _ = csv_to_tensor(target=c.output, take=take)\n",
        "\n",
        "print('Data imported from:', take, 'videos')\n"
      ]
    },
    {
      "cell_type": "code",
      "execution_count": 4,
      "metadata": {
        "colab": {
          "base_uri": "https://localhost:8080/"
        },
        "id": "SgnU824BF-Lp",
        "outputId": "f3024e2b-35d9-4708-9314-e3b8a2524479"
      },
      "outputs": [],
      "source": [
        "dataset = data.Dataset.zip((inputs, outputs))\n",
        "\n",
        "train_dataset = dataset.take(4000).shuffle(c.BUFFER_SIZE).batch(\n",
        "    c.BATCH_SIZE).prefetch(data.experimental.AUTOTUNE)\n",
        "val_dataset = dataset.skip(4000).batch(\n",
        "    c.BATCH_SIZE).prefetch(data.experimental.AUTOTUNE)\n"
      ]
    },
    {
      "cell_type": "code",
      "execution_count": 5,
      "metadata": {},
      "outputs": [
        {
          "name": "stdout",
          "output_type": "stream",
          "text": [
            "Model: \"food_frame_classification\"\n",
            "_________________________________________________________________\n",
            " Layer (type)                Output Shape              Param #   \n",
            "=================================================================\n",
            " lstm (LSTM)                 (None, None, 64)          147712    \n",
            "                                                                 \n",
            " lstm_1 (LSTM)               (None, None, 4)           1104      \n",
            "                                                                 \n",
            " lstm_2 (LSTM)               (None, None, 1)           24        \n",
            "                                                                 \n",
            "=================================================================\n",
            "Total params: 148,840\n",
            "Trainable params: 148,840\n",
            "Non-trainable params: 0\n",
            "_________________________________________________________________\n"
          ]
        }
      ],
      "source": [
        "clear_session()\n",
        "\n",
        "model = Sequential(name='food_frame_classification')\n",
        "model.add(InputLayer(input_shape=(None, c.features)))\n",
        "model.add(LSTM(64, return_sequences=True, activation='relu'))\n",
        "model.add(LSTM(4, return_sequences=True, activation='relu'))\n",
        "model.add(LSTM(1, return_sequences=True, activation='sigmoid'))\n",
        "\n",
        "model = load_model('saved_model')\n",
        "\n",
        "model.compile(loss=losses.BinaryCrossentropy(from_logits=True),\n",
        "              optimizer=optimizers.Adam(),\n",
        "              metrics=metrics.Accuracy(),\n",
        "              run_eagerly=True)\n",
        "\n",
        "model.summary()\n"
      ]
    },
    {
      "cell_type": "code",
      "execution_count": 6,
      "metadata": {
        "colab": {
          "base_uri": "https://localhost:8080/"
        },
        "id": "HwcHeG9aF-Lq",
        "outputId": "95a0b6e8-66e2-46e8-9e2b-d89a40106c86"
      },
      "outputs": [
        {
          "name": "stdout",
          "output_type": "stream",
          "text": [
            "Epoch 1/100\n",
            "63/63 [==============================] - 24s 369ms/step - loss: 0.6135 - accuracy: 0.5183 - val_loss: 0.7101 - val_accuracy: 0.6087\n",
            "Epoch 2/100\n",
            "63/63 [==============================] - 23s 349ms/step - loss: 0.6182 - accuracy: 0.5006 - val_loss: 0.7259 - val_accuracy: 0.5490\n",
            "Epoch 3/100\n",
            "63/63 [==============================] - 18s 268ms/step - loss: 0.6221 - accuracy: 0.5469 - val_loss: 0.7223 - val_accuracy: 0.5621\n",
            "Epoch 4/100\n",
            "63/63 [==============================] - 23s 353ms/step - loss: 0.6154 - accuracy: 0.4228 - val_loss: 0.7261 - val_accuracy: 0.5890\n",
            "Epoch 5/100\n",
            "63/63 [==============================] - 18s 276ms/step - loss: 0.6104 - accuracy: 0.4827 - val_loss: 0.7218 - val_accuracy: 0.6048\n",
            "Epoch 6/100\n",
            "63/63 [==============================] - 18s 277ms/step - loss: 0.6143 - accuracy: 0.5351 - val_loss: 0.7433 - val_accuracy: 0.5904\n",
            "Epoch 7/100\n",
            "63/63 [==============================] - 18s 274ms/step - loss: 0.6229 - accuracy: 0.4831 - val_loss: 0.7358 - val_accuracy: 0.5536\n",
            "Epoch 8/100\n",
            "63/63 [==============================] - 23s 357ms/step - loss: 0.6134 - accuracy: 0.3586 - val_loss: 0.7271 - val_accuracy: 0.5339\n",
            "Epoch 9/100\n",
            "63/63 [==============================] - 18s 277ms/step - loss: 0.6120 - accuracy: 0.4218 - val_loss: 0.7210 - val_accuracy: 0.6174\n",
            "Epoch 10/100\n",
            "63/63 [==============================] - 23s 354ms/step - loss: 0.6104 - accuracy: 0.4567 - val_loss: 0.7144 - val_accuracy: 0.6881\n",
            "Epoch 11/100\n",
            "63/63 [==============================] - 18s 276ms/step - loss: 0.6131 - accuracy: 0.4595 - val_loss: 0.7208 - val_accuracy: 0.6152\n",
            "Epoch 12/100\n",
            "63/63 [==============================] - 18s 277ms/step - loss: 0.6098 - accuracy: 0.4433 - val_loss: 0.7227 - val_accuracy: 0.6343\n",
            "Epoch 13/100\n",
            "63/63 [==============================] - 18s 277ms/step - loss: 0.6442 - accuracy: 0.4937 - val_loss: 0.7610 - val_accuracy: 0.6549\n",
            "Epoch 14/100\n",
            "63/63 [==============================] - 18s 277ms/step - loss: 0.6685 - accuracy: 0.4318 - val_loss: 0.7251 - val_accuracy: 0.7338\n",
            "Epoch 15/100\n",
            "63/63 [==============================] - 18s 279ms/step - loss: 0.6214 - accuracy: 0.5783 - val_loss: 0.7352 - val_accuracy: 0.6985\n",
            "Epoch 16/100\n",
            "63/63 [==============================] - 18s 276ms/step - loss: 0.6157 - accuracy: 0.5457 - val_loss: 0.7235 - val_accuracy: 0.6997\n",
            "Epoch 17/100\n",
            "63/63 [==============================] - 19s 287ms/step - loss: 0.6265 - accuracy: 0.4874 - val_loss: 0.7145 - val_accuracy: 0.6827\n",
            "Epoch 18/100\n",
            "63/63 [==============================] - 18s 277ms/step - loss: 0.6208 - accuracy: 0.5525 - val_loss: 0.7187 - val_accuracy: 0.6548\n",
            "Epoch 19/100\n",
            "63/63 [==============================] - 21s 311ms/step - loss: 0.6110 - accuracy: 0.4621 - val_loss: 0.7608 - val_accuracy: 0.6250\n",
            "Epoch 20/100\n",
            "63/63 [==============================] - 21s 315ms/step - loss: 0.6099 - accuracy: 0.4758 - val_loss: 0.7322 - val_accuracy: 0.6476\n",
            "Epoch 21/100\n",
            "63/63 [==============================] - 24s 366ms/step - loss: 0.6090 - accuracy: 0.5060 - val_loss: 0.7380 - val_accuracy: 0.6459\n",
            "Epoch 22/100\n",
            "63/63 [==============================] - 19s 286ms/step - loss: 0.6086 - accuracy: 0.5529 - val_loss: 0.7347 - val_accuracy: 0.6557\n",
            "Epoch 23/100\n",
            "63/63 [==============================] - 18s 277ms/step - loss: 0.6100 - accuracy: 0.5396 - val_loss: 0.7542 - val_accuracy: 0.6323\n",
            "Epoch 24/100\n",
            "63/63 [==============================] - 19s 281ms/step - loss: 0.6088 - accuracy: 0.5152 - val_loss: 0.7593 - val_accuracy: 0.6316\n",
            "Epoch 25/100\n",
            "63/63 [==============================] - 23s 352ms/step - loss: 0.6091 - accuracy: 0.4610 - val_loss: 0.7352 - val_accuracy: 0.6356\n",
            "Epoch 26/100\n",
            "63/63 [==============================] - 20s 297ms/step - loss: 0.6102 - accuracy: 0.5252 - val_loss: 0.7295 - val_accuracy: 0.6665\n",
            "Epoch 27/100\n",
            "63/63 [==============================] - 24s 364ms/step - loss: 0.6092 - accuracy: 0.5357 - val_loss: 0.7426 - val_accuracy: 0.6662\n",
            "Epoch 28/100\n",
            "63/63 [==============================] - 18s 266ms/step - loss: 0.6092 - accuracy: 0.5399 - val_loss: 0.7257 - val_accuracy: 0.6668\n",
            "Epoch 29/100\n",
            "63/63 [==============================] - 17s 262ms/step - loss: 0.6081 - accuracy: 0.5984 - val_loss: 0.7314 - val_accuracy: 0.6470\n",
            "Epoch 30/100\n",
            "63/63 [==============================] - 17s 261ms/step - loss: 0.6104 - accuracy: 0.4968 - val_loss: 0.7320 - val_accuracy: 0.6621\n",
            "Epoch 31/100\n",
            "63/63 [==============================] - 23s 356ms/step - loss: 0.6121 - accuracy: 0.6128 - val_loss: 0.7349 - val_accuracy: 0.6684\n",
            "Epoch 32/100\n",
            "63/63 [==============================] - 18s 277ms/step - loss: 0.6106 - accuracy: 0.6036 - val_loss: 0.7512 - val_accuracy: 0.6344\n",
            "Epoch 33/100\n",
            "63/63 [==============================] - 23s 356ms/step - loss: 0.6107 - accuracy: 0.5902 - val_loss: 0.7384 - val_accuracy: 0.6581\n",
            "Epoch 34/100\n",
            "63/63 [==============================] - 19s 281ms/step - loss: 0.6101 - accuracy: 0.6040 - val_loss: 0.7352 - val_accuracy: 0.6665\n",
            "Epoch 35/100\n",
            "63/63 [==============================] - 18s 280ms/step - loss: 0.6098 - accuracy: 0.6398 - val_loss: 0.7310 - val_accuracy: 0.6884\n",
            "Epoch 36/100\n",
            "63/63 [==============================] - 18s 278ms/step - loss: 0.6135 - accuracy: 0.6178 - val_loss: 0.7659 - val_accuracy: 0.6327\n",
            "Epoch 37/100\n",
            "63/63 [==============================] - 23s 356ms/step - loss: 0.6108 - accuracy: 0.6372 - val_loss: 0.7367 - val_accuracy: 0.6734\n",
            "Epoch 38/100\n",
            "63/63 [==============================] - 23s 356ms/step - loss: 0.6092 - accuracy: 0.6423 - val_loss: 0.7337 - val_accuracy: 0.6782\n",
            "Epoch 39/100\n",
            "63/63 [==============================] - 23s 357ms/step - loss: 0.6103 - accuracy: 0.6275 - val_loss: 0.7704 - val_accuracy: 0.6455\n",
            "Epoch 40/100\n",
            "63/63 [==============================] - 18s 276ms/step - loss: 0.6086 - accuracy: 0.6293 - val_loss: 0.7264 - val_accuracy: 0.7018\n",
            "Epoch 41/100\n",
            "63/63 [==============================] - 18s 278ms/step - loss: 0.6120 - accuracy: 0.5732 - val_loss: 0.7310 - val_accuracy: 0.6655\n",
            "Epoch 42/100\n",
            "63/63 [==============================] - 18s 278ms/step - loss: 0.6085 - accuracy: 0.5711 - val_loss: 0.7301 - val_accuracy: 0.6568\n",
            "Epoch 43/100\n",
            "63/63 [==============================] - 24s 362ms/step - loss: 0.6127 - accuracy: 0.5091 - val_loss: 0.7270 - val_accuracy: 0.6680\n",
            "Epoch 44/100\n",
            "63/63 [==============================] - 18s 280ms/step - loss: 0.6064 - accuracy: 0.5161 - val_loss: 0.7313 - val_accuracy: 0.6605\n",
            "Epoch 45/100\n",
            "63/63 [==============================] - 19s 282ms/step - loss: 0.6056 - accuracy: 0.5150 - val_loss: 0.7321 - val_accuracy: 0.6620\n",
            "Epoch 46/100\n",
            "63/63 [==============================] - 18s 278ms/step - loss: 0.6053 - accuracy: 0.5134 - val_loss: 0.7339 - val_accuracy: 0.6604\n",
            "Epoch 47/100\n",
            "63/63 [==============================] - 18s 279ms/step - loss: 0.6054 - accuracy: 0.5153 - val_loss: 0.7341 - val_accuracy: 0.6686\n",
            "Epoch 48/100\n",
            "63/63 [==============================] - 18s 279ms/step - loss: 0.6064 - accuracy: 0.5305 - val_loss: 0.7325 - val_accuracy: 0.6714\n",
            "Epoch 49/100\n",
            "63/63 [==============================] - 18s 278ms/step - loss: 0.6059 - accuracy: 0.5246 - val_loss: 0.7389 - val_accuracy: 0.6732\n",
            "Epoch 50/100\n",
            "63/63 [==============================] - 18s 279ms/step - loss: 0.6058 - accuracy: 0.5309 - val_loss: 0.7397 - val_accuracy: 0.6716\n",
            "Epoch 51/100\n",
            "63/63 [==============================] - 23s 359ms/step - loss: 0.6058 - accuracy: 0.5274 - val_loss: 0.7393 - val_accuracy: 0.6785\n",
            "Epoch 52/100\n",
            "63/63 [==============================] - 24s 366ms/step - loss: 0.6068 - accuracy: 0.5653 - val_loss: 0.7468 - val_accuracy: 0.6798\n",
            "Epoch 53/100\n",
            "63/63 [==============================] - 24s 364ms/step - loss: 0.6056 - accuracy: 0.5701 - val_loss: 0.7333 - val_accuracy: 0.6880\n",
            "Epoch 54/100\n",
            "63/63 [==============================] - 19s 283ms/step - loss: 0.6053 - accuracy: 0.5666 - val_loss: 0.7413 - val_accuracy: 0.6810\n",
            "Epoch 55/100\n",
            "63/63 [==============================] - 23s 358ms/step - loss: 0.6050 - accuracy: 0.5619 - val_loss: 0.7429 - val_accuracy: 0.6783\n",
            "Epoch 56/100\n",
            "63/63 [==============================] - 24s 374ms/step - loss: 0.6060 - accuracy: 0.5677 - val_loss: 0.7399 - val_accuracy: 0.6924\n",
            "Epoch 57/100\n",
            "63/63 [==============================] - 18s 273ms/step - loss: 0.6060 - accuracy: 0.5585 - val_loss: 0.7465 - val_accuracy: 0.6861\n",
            "Epoch 58/100\n",
            "63/63 [==============================] - 18s 272ms/step - loss: 0.6055 - accuracy: 0.5440 - val_loss: 0.7464 - val_accuracy: 0.6953\n",
            "Epoch 59/100\n",
            "63/63 [==============================] - 18s 269ms/step - loss: 0.6058 - accuracy: 0.5505 - val_loss: 0.7425 - val_accuracy: 0.6972\n",
            "Epoch 60/100\n",
            "63/63 [==============================] - 23s 351ms/step - loss: 0.6056 - accuracy: 0.5437 - val_loss: 0.7517 - val_accuracy: 0.6773\n",
            "Epoch 61/100\n",
            "63/63 [==============================] - 19s 281ms/step - loss: 0.6049 - accuracy: 0.5446 - val_loss: 0.7604 - val_accuracy: 0.6648\n",
            "Epoch 62/100\n",
            "63/63 [==============================] - 18s 266ms/step - loss: 0.6050 - accuracy: 0.5570 - val_loss: 0.7363 - val_accuracy: 0.7036\n",
            "Epoch 63/100\n",
            "63/63 [==============================] - 23s 346ms/step - loss: 0.6039 - accuracy: 0.5789 - val_loss: 0.7478 - val_accuracy: 0.6953\n",
            "Epoch 64/100\n",
            "63/63 [==============================] - 23s 352ms/step - loss: 0.6041 - accuracy: 0.5815 - val_loss: 0.7476 - val_accuracy: 0.7035\n",
            "Epoch 65/100\n",
            "63/63 [==============================] - 25s 378ms/step - loss: 0.6037 - accuracy: 0.6075 - val_loss: 0.7461 - val_accuracy: 0.7069\n",
            "Epoch 66/100\n",
            "63/63 [==============================] - 24s 361ms/step - loss: 0.6027 - accuracy: 0.6154 - val_loss: 0.7458 - val_accuracy: 0.7081\n",
            "Epoch 67/100\n",
            "63/63 [==============================] - 18s 271ms/step - loss: 0.6027 - accuracy: 0.6177 - val_loss: 0.7503 - val_accuracy: 0.6937\n",
            "Epoch 68/100\n",
            "63/63 [==============================] - 23s 355ms/step - loss: 0.6029 - accuracy: 0.6190 - val_loss: 0.7429 - val_accuracy: 0.6980\n",
            "Epoch 69/100\n",
            "63/63 [==============================] - 23s 359ms/step - loss: 0.6025 - accuracy: 0.5943 - val_loss: 0.7495 - val_accuracy: 0.6903\n",
            "Epoch 70/100\n",
            "63/63 [==============================] - 24s 369ms/step - loss: 0.6029 - accuracy: 0.5870 - val_loss: 0.7485 - val_accuracy: 0.6817\n",
            "Epoch 71/100\n",
            "63/63 [==============================] - 25s 380ms/step - loss: 0.6027 - accuracy: 0.5294 - val_loss: 0.7514 - val_accuracy: 0.6685\n",
            "Epoch 72/100\n",
            "63/63 [==============================] - 19s 291ms/step - loss: 0.6031 - accuracy: 0.5368 - val_loss: 0.7459 - val_accuracy: 0.6742\n",
            "Epoch 73/100\n",
            "63/63 [==============================] - 19s 282ms/step - loss: 0.6030 - accuracy: 0.5696 - val_loss: 0.7310 - val_accuracy: 0.7266\n",
            "Epoch 74/100\n",
            "63/63 [==============================] - 19s 291ms/step - loss: 0.6062 - accuracy: 0.6979 - val_loss: 0.7383 - val_accuracy: 0.7115\n",
            "Epoch 75/100\n",
            "63/63 [==============================] - 24s 365ms/step - loss: 0.6060 - accuracy: 0.6778 - val_loss: 0.7365 - val_accuracy: 0.7302\n",
            "Epoch 76/100\n",
            "63/63 [==============================] - 23s 360ms/step - loss: 0.6034 - accuracy: 0.6990 - val_loss: 0.7324 - val_accuracy: 0.7391\n",
            "Epoch 77/100\n",
            "63/63 [==============================] - 23s 360ms/step - loss: 0.6041 - accuracy: 0.6922 - val_loss: 0.7373 - val_accuracy: 0.7258\n",
            "Epoch 78/100\n",
            "63/63 [==============================] - 18s 279ms/step - loss: 0.6019 - accuracy: 0.6963 - val_loss: 0.7380 - val_accuracy: 0.7258\n",
            "Epoch 79/100\n",
            "63/63 [==============================] - 24s 361ms/step - loss: 0.6029 - accuracy: 0.6663 - val_loss: 0.7390 - val_accuracy: 0.7114\n",
            "Epoch 80/100\n",
            "63/63 [==============================] - 24s 360ms/step - loss: 0.6026 - accuracy: 0.6645 - val_loss: 0.7360 - val_accuracy: 0.7184\n",
            "Epoch 81/100\n",
            "63/63 [==============================] - 23s 358ms/step - loss: 0.6025 - accuracy: 0.6672 - val_loss: 0.7311 - val_accuracy: 0.7274\n",
            "Epoch 82/100\n",
            "63/63 [==============================] - 18s 277ms/step - loss: 0.6018 - accuracy: 0.6659 - val_loss: 0.7363 - val_accuracy: 0.7180\n",
            "Epoch 83/100\n",
            "63/63 [==============================] - 19s 281ms/step - loss: 0.6019 - accuracy: 0.6516 - val_loss: 0.7364 - val_accuracy: 0.7176\n",
            "Epoch 84/100\n",
            "63/63 [==============================] - 24s 366ms/step - loss: 0.6015 - accuracy: 0.6509 - val_loss: 0.7384 - val_accuracy: 0.7173\n",
            "Epoch 85/100\n",
            "63/63 [==============================] - 19s 282ms/step - loss: 0.6013 - accuracy: 0.6532 - val_loss: 0.7384 - val_accuracy: 0.7200\n",
            "Epoch 86/100\n",
            "63/63 [==============================] - 24s 363ms/step - loss: 0.6018 - accuracy: 0.6482 - val_loss: 0.7435 - val_accuracy: 0.7071\n",
            "Epoch 87/100\n",
            "63/63 [==============================] - 24s 368ms/step - loss: 0.6064 - accuracy: 0.6249 - val_loss: 0.7338 - val_accuracy: 0.7206\n",
            "Epoch 88/100\n",
            "63/63 [==============================] - 19s 283ms/step - loss: 0.6030 - accuracy: 0.6296 - val_loss: 0.7314 - val_accuracy: 0.7235\n",
            "Epoch 89/100\n",
            "63/63 [==============================] - 19s 292ms/step - loss: 0.6022 - accuracy: 0.6418 - val_loss: 0.7299 - val_accuracy: 0.7243\n",
            "Epoch 90/100\n",
            "63/63 [==============================] - 24s 370ms/step - loss: 0.6017 - accuracy: 0.6579 - val_loss: 0.7271 - val_accuracy: 0.7303\n",
            "Epoch 91/100\n",
            "63/63 [==============================] - 19s 283ms/step - loss: 0.6022 - accuracy: 0.6723 - val_loss: 0.7073 - val_accuracy: 0.7714\n",
            "Epoch 92/100\n",
            "63/63 [==============================] - 24s 372ms/step - loss: 0.6021 - accuracy: 0.6854 - val_loss: 0.7221 - val_accuracy: 0.7480\n",
            "Epoch 93/100\n",
            "63/63 [==============================] - 23s 359ms/step - loss: 0.6011 - accuracy: 0.6608 - val_loss: 0.7248 - val_accuracy: 0.7405\n",
            "Epoch 94/100\n",
            "63/63 [==============================] - 20s 296ms/step - loss: 0.6005 - accuracy: 0.6535 - val_loss: 0.7284 - val_accuracy: 0.7341\n",
            "Epoch 95/100\n",
            "63/63 [==============================] - 23s 360ms/step - loss: 0.6001 - accuracy: 0.6536 - val_loss: 0.7300 - val_accuracy: 0.7321\n",
            "Epoch 96/100\n",
            "63/63 [==============================] - 20s 297ms/step - loss: 0.6003 - accuracy: 0.6690 - val_loss: 0.7330 - val_accuracy: 0.7218\n",
            "Epoch 97/100\n",
            "63/63 [==============================] - 20s 295ms/step - loss: 0.6014 - accuracy: 0.6636 - val_loss: 0.7288 - val_accuracy: 0.7271\n",
            "Epoch 98/100\n",
            "63/63 [==============================] - 23s 358ms/step - loss: 0.6015 - accuracy: 0.6548 - val_loss: 0.7287 - val_accuracy: 0.7250\n",
            "Epoch 99/100\n",
            "63/63 [==============================] - 24s 367ms/step - loss: 0.6011 - accuracy: 0.6411 - val_loss: 0.7298 - val_accuracy: 0.7263\n",
            "Epoch 100/100\n",
            "63/63 [==============================] - 18s 265ms/step - loss: 0.6000 - accuracy: 0.6620 - val_loss: 0.7334 - val_accuracy: 0.7221\n"
          ]
        }
      ],
      "source": [
        "history = model.fit(train_dataset, validation_data=val_dataset, epochs=100)\n"
      ]
    },
    {
      "cell_type": "code",
      "execution_count": 7,
      "metadata": {},
      "outputs": [
        {
          "name": "stdout",
          "output_type": "stream",
          "text": [
            "INFO:tensorflow:Assets written to: saved_model\\assets\n"
          ]
        }
      ],
      "source": [
        "model.save('saved_model')\n"
      ]
    },
    {
      "cell_type": "code",
      "execution_count": 9,
      "metadata": {},
      "outputs": [],
      "source": [
        "def csv_to_predict(target=c.input, step=c.step, take=None):\n",
        "    sub_dataset = []\n",
        "    for file in os.listdir(target)[:take]:\n",
        "        df = pd.read_csv(os.path.join(target, file))\n",
        "        df = data.Dataset.from_tensor_slices(df)\n",
        "        df = df.window(step, drop_remainder=True).flat_map(\n",
        "            lambda x: x.batch(c.BATCH_SIZE))\n",
        "        sub_dataset.append(df)\n",
        "\n",
        "    tensor = sub_dataset[0]\n",
        "    for dataset in sub_dataset[1:]:\n",
        "        tensor = tensor.concatenate(dataset)\n",
        "    return tensor, os.listdir(target)[:take]\n"
      ]
    },
    {
      "cell_type": "code",
      "execution_count": 20,
      "metadata": {},
      "outputs": [
        {
          "name": "stdout",
          "output_type": "stream",
          "text": [
            "Prediction of video -24c2YiaChY.csv :\n",
            "39/39 [==============================] - 3s 66ms/step\n",
            "[0 0 0 0 0 0 0 0 0 0 0 0 0 0 0 0 0 0 0 0 0 0 0 0 0 0 0 0 0 0 0 0]\n",
            "[0 0 0 0 0 0 0 0 0 0 0 0 0 0 0 0 0 0 0 0 0 0 0 0 0 0 0 0 0 0 0 0]\n",
            "[0 0 1 0 0 0 1 1 1 1 1 1 1 1 1 1 1 1 1 1 1 1 1 1 1 1 1 1 1 1 1 1]\n",
            "[1 1 1 1 1 1 1 1 1 1 1 1 1 1 1 1 1 1 1 1 1 1 1 1 1 1 1 1 1 1 1 1]\n",
            "[1 1 1 1 1 1 1 1 1 1 1 1 1 1 1 1 1 1 1 1 1 1 1 1 1 1 1 1 1 1 1 1]\n",
            "[1 1 1 1 1 1 1 1 1 1 1 1 1 1 1 1 1 1 1 1 1 1 1 1 1 1 1 1 1 1 1 1]\n",
            "[1 1 1 1 1 1 1 1 1 1 1 1 1 1 1 1 1 1 1 1 1 1 1 1 1 1 1 1 1 1 1 1]\n",
            "[1 1 1 1 1 1 1 1 1 1 1 1 1 1 1 1 1 1 1 1 1 1 1 1 1 1 1 1 1 1 1 1]\n",
            "[0 0 0 0 0 1 1 1 1 1 1 1 1 1 1 1 1 1 1 1 1 1 1 1 1 1 1 1 1 1 1 1]\n",
            "[1 1 1 1 1 1 1 1 1 1 1 1 1 1 1 1 1 1 1 1 1 1 1 1 1 1 1 1 1 1 1 1]\n",
            "[0 1 1 1 1 1 1 1 1 1 1 1 1 1 1 1 1 1 1 1 1 1 1 1 1 1 1 1 1 1 1 1]\n",
            "[0 1 1 1 1 1 1 1 1 1 1 1 1 1 1 1 1 1 1 1 1 1 1 1 1 1 1 1 1 1 1 1]\n",
            "[1 1 1 1 1 1 1 1 1 1 1 1 1 1 1 1 1 1 1 1 1 1 1 1 1 1 1 1 1 1 1 1]\n",
            "[0 1 1 1 1 1 1 1 1 1 1 1 1 1 1 1 1 1 1 1 1 1 1 1 1 1 1 1 1 1 1 1]\n",
            "[1 1 1 1 1 1 1 1 1 1 1 1 1 1 1 1 1 1 1 1 1 1 1 1 1 1 1 1 1 1 1 1]\n",
            "[1 1 1 1 1 1 1 1 1 1 1 1 1 1 1 1 1 1 1 1 1 1 1 1 1 1 1 1 1 1 1 1]\n",
            "[1 1 1 1 1 1 1 1 1 1 1 1 1 1 1 1 1 1 1 1 1 1 1 1 1 1 1 1 1 1 1 1]\n",
            "[1 1 1 1 1 1 1 1 1 1 1 1 1 1 1 1 1 1 1 1 1 1 1 1 1 1 1 1 1 1 1 1]\n",
            "[1 1 1 1 1 1 1 1 1 1 1 1 1 1 1 1 1 1 1 1 1 1 1 1 1 1 1 1 1 1 1 1]\n",
            "[1 1 1 1 1 1 1 1 0 0 0 0 0 0 0 0 0 0 0 0 0 0 0 0 0 0 0 0 0 0 0 0]\n",
            "[0 0 0 0 0 0 0 0 0 0 0 0 0 0 0 0 0 0 0 0 0 0 0 0 0 0 0 0 0 0 0 0]\n",
            "[0 0 0 0 0 0 0 0 1 1 1 1 1 1 1 1 1 1 1 1 1 1 1 1 1 1 1 1 1 1 1 1]\n",
            "[1 1 1 1 1 1 1 1 1 1 1 1 1 1 1 1 1 1 1 1 1 1 1 1 1 1 1 1 1 1 1 1]\n",
            "[1 1 1 1 1 1 1 1 1 1 1 1 1 1 1 1 1 1 1 1 1 1 1 1 1 1 1 1 1 1 1 1]\n",
            "[1 1 1 1 1 1 1 1 1 1 1 1 1 1 1 0 0 0 0 0 0 0 0 0 0 0 0 0 0 0 0 0]\n",
            "[0 0 0 0 0 0 0 0 0 0 0 0 0 0 0 0 0 0 0 0 0 0 0 0 0 0 0 0 0 0 0 0]\n",
            "[1 1 1 1 1 1 1 1 1 1 1 1 1 1 1 1 1 1 1 1 1 1 1 1 1 1 1 1 1 1 1 1]\n",
            "[0 1 1 1 1 1 1 1 1 1 1 1 1 1 1 1 1 1 1 1 1 1 1 1 1 1 1 1 1 1 1 1]\n",
            "[1 1 1 1 1 1 1 1 1 1 1 1 1 1 1 1 1 1 1 1 1 1 1 1 1 1 1 1 1 1 1 1]\n",
            "[1 1 1 1 1 1 1 1 1 1 1 1 1 1 1 1 1 1 1 1 1 1 1 1 1 1 1 1 1 1 1 1]\n",
            "[1 1 1 1 1 1 1 1 1 1 1 1 1 1 1 1 1 1 1 1 1 1 1 1 1 1 1 1 1 1 1 1]\n",
            "[1 1 1 1 1 1 1 1 1 1 1 1 1 1 1 1 1 1 1 1 1 1 1 1 1 1 1 1 1 1 1 1]\n",
            "[1 1 1 1 1 1 1 1 1 1 1 1 1 1 1 1 1 1 1 1 1 1 1 1 1 1 1 1 1 1 1 1]\n",
            "[1 1 1 1 1 1 1 1 1 1 1 1 1 1 1 1 1 1 1 1 1 1 1 1 1 1 1 1 1 1 1 1]\n",
            "[1 1 1 1 1 1 1 1 1 1 1 1 1 1 1 1 1 1 1 1 1 1 1 1 1 1 1 1 1 1 1 1]\n",
            "[1 1 1 1 1 1 1 1 1 1 1 1 1 1 1 1 1 1 1 1 1 1 1 1 1 1 1 1 1 1 1 1]\n",
            "[1 1 1 1 1 1 1 1 1 1 1 1 1 1 1 1 1 1 1 1 1 1 1 1 1 1 1 1 1 1 1 1]\n",
            "[1 1 1 1 1 1 1 1 1 1 1 1 1 1 1 1 1 1 1 1 1 1 1 1 1 1 1 1 1 1 1 1]\n",
            "[0 0 0 0 0 0 0 0 0 0 0 0 0 0 0 0 0 0 0 0 0 0 0 0 0 0 0 0 0 0 0 0]\n"
          ]
        }
      ],
      "source": [
        "predict, _ = csv_to_predict(target=c.input, take=1)\n",
        "print('Prediction of video', _[0], ':')\n",
        "\n",
        "predict = predict.batch(1)\n",
        "result = model.predict(predict)\n",
        "result = np.array(np.round(result), dtype=int)\n",
        "for i in result:\n",
        "    print(i.T[0])\n"
      ]
    },
    {
      "cell_type": "code",
      "execution_count": 30,
      "metadata": {},
      "outputs": [],
      "source": [
        "saved_predict = []\n",
        "for i in result:\n",
        "    saved_predict = np.concatenate((saved_predict, i.T[0]), axis=0)\n",
        "saved_predict = np.array(saved_predict, dtype=int)\n"
      ]
    },
    {
      "cell_type": "code",
      "execution_count": 32,
      "metadata": {},
      "outputs": [],
      "source": [
        "pd.DataFrame(data=saved_predict).to_csv(c.path + str(_[0]) + '.predict.csv', index=False, header=False)\n"
      ]
    }
  ],
  "metadata": {
    "colab": {
      "collapsed_sections": [],
      "name": "LSTM.ipynb",
      "provenance": []
    },
    "kernelspec": {
      "display_name": "Python 3.10.5 64-bit",
      "language": "python",
      "name": "python3"
    },
    "language_info": {
      "codemirror_mode": {
        "name": "ipython",
        "version": 3
      },
      "file_extension": ".py",
      "mimetype": "text/x-python",
      "name": "python",
      "nbconvert_exporter": "python",
      "pygments_lexer": "ipython3",
      "version": "3.10.5"
    },
    "vscode": {
      "interpreter": {
        "hash": "26de051ba29f2982a8de78e945f0abaf191376122a1563185a90213a26c5da77"
      }
    }
  },
  "nbformat": 4,
  "nbformat_minor": 0
}
