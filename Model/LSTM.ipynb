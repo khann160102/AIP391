{
  "cells": [
    {
      "cell_type": "code",
      "execution_count": 1,
      "metadata": {
        "id": "W_mw9FztF-Li"
      },
      "outputs": [],
      "source": [
        "from tensorflow import data\n",
        "\n",
        "from keras import Sequential, losses, metrics, optimizers\n",
        "from keras.backend import clear_session\n",
        "from keras.layers import LSTM, InputLayer\n",
        "from keras.models import load_model\n",
        "\n",
        "import pandas as pd\n",
        "import numpy as np\n",
        "import os\n",
        "\n",
        "import config as c\n"
      ]
    },
    {
      "cell_type": "code",
      "execution_count": 2,
      "metadata": {
        "id": "qQI4SWVlF-Lm"
      },
      "outputs": [],
      "source": [
        "def csv_to_tensor(target=c.input, step=c.step, take=None):\n",
        "    sub_dataset = []\n",
        "    for file in os.listdir(target)[:take]:\n",
        "        df = pd.read_csv(os.path.join(target, file))\n",
        "        df = data.Dataset.from_tensor_slices(df)\n",
        "        df = df.window(step, shift=1, drop_remainder=True).flat_map(\n",
        "            lambda x: x.batch(c.BATCH_SIZE))\n",
        "        sub_dataset.append(df)\n",
        "\n",
        "    tensor = sub_dataset[0]\n",
        "    for dataset in sub_dataset[1:]:\n",
        "        tensor = tensor.concatenate(dataset)\n",
        "    return tensor, os.listdir(target)[:take]\n"
      ]
    },
    {
      "cell_type": "code",
      "execution_count": 3,
      "metadata": {
        "colab": {
          "base_uri": "https://localhost:8080/"
        },
        "id": "GdxWqh6mF-Ln",
        "outputId": "3aa54af2-d55a-46d2-d79b-5c8fdf9208d1"
      },
      "outputs": [
        {
          "name": "stdout",
          "output_type": "stream",
          "text": [
            "Data imported from: 100 videos\n"
          ]
        }
      ],
      "source": [
        "take = 100\n",
        "inputs, _ = csv_to_tensor(target=c.input, take=take)\n",
        "outputs, _ = csv_to_tensor(target=c.output, take=take)\n",
        "\n",
        "print('Data imported from:', take, 'videos')\n"
      ]
    },
    {
      "cell_type": "code",
      "execution_count": 4,
      "metadata": {
        "colab": {
          "base_uri": "https://localhost:8080/"
        },
        "id": "SgnU824BF-Lp",
        "outputId": "f3024e2b-35d9-4708-9314-e3b8a2524479"
      },
      "outputs": [],
      "source": [
        "dataset = data.Dataset.zip((inputs, outputs))\n",
        "\n",
        "train_dataset = dataset.take(4000).shuffle(c.BUFFER_SIZE).batch(\n",
        "    c.BATCH_SIZE).prefetch(data.experimental.AUTOTUNE)\n",
        "val_dataset = dataset.skip(4000).batch(\n",
        "    c.BATCH_SIZE).prefetch(data.experimental.AUTOTUNE)\n"
      ]
    },
    {
      "cell_type": "code",
      "execution_count": 5,
      "metadata": {},
      "outputs": [
        {
          "name": "stdout",
          "output_type": "stream",
          "text": [
            "Model: \"food_frame_classification\"\n",
            "_________________________________________________________________\n",
            " Layer (type)                Output Shape              Param #   \n",
            "=================================================================\n",
            " lstm (LSTM)                 (None, None, 64)          147712    \n",
            "                                                                 \n",
            " lstm_1 (LSTM)               (None, None, 4)           1104      \n",
            "                                                                 \n",
            " lstm_2 (LSTM)               (None, None, 1)           24        \n",
            "                                                                 \n",
            "=================================================================\n",
            "Total params: 148,840\n",
            "Trainable params: 148,840\n",
            "Non-trainable params: 0\n",
            "_________________________________________________________________\n"
          ]
        }
      ],
      "source": [
        "clear_session()\n",
        "\n",
        "model = Sequential(name='food_frame_classification')\n",
        "model.add(InputLayer(input_shape=(None, c.features)))\n",
        "model.add(LSTM(64, return_sequences=True, activation='relu'))\n",
        "model.add(LSTM(4, return_sequences=True, activation='relu'))\n",
        "model.add(LSTM(1, return_sequences=True, activation='sigmoid'))\n",
        "\n",
        "#model = load_model('saved_model')\n",
        "\n",
        "model.compile(loss=losses.BinaryCrossentropy(from_logits=True),\n",
        "              optimizer=optimizers.Adam(),\n",
        "              metrics=metrics.Accuracy(),\n",
        "              run_eagerly=True)\n",
        "\n",
        "model.summary()\n"
      ]
    },
    {
      "cell_type": "code",
      "execution_count": 6,
      "metadata": {
        "colab": {
          "base_uri": "https://localhost:8080/"
        },
        "id": "HwcHeG9aF-Lq",
        "outputId": "95a0b6e8-66e2-46e8-9e2b-d89a40106c86"
      },
      "outputs": [
        {
          "name": "stdout",
          "output_type": "stream",
          "text": [
            "Epoch 1/100\n",
            "63/63 [==============================] - 107s 2s/step - loss: 0.6855 - accuracy: 0.2345 - val_loss: 0.7593 - val_accuracy: 0.1302\n",
            "Epoch 2/100\n",
            "63/63 [==============================] - 107s 2s/step - loss: 0.6315 - accuracy: 0.2629 - val_loss: 0.7761 - val_accuracy: 0.1272\n",
            "Epoch 3/100\n",
            "63/63 [==============================] - 109s 2s/step - loss: 0.6170 - accuracy: 0.2868 - val_loss: 0.7633 - val_accuracy: 0.1826\n",
            "Epoch 4/100\n",
            "63/63 [==============================] - 108s 2s/step - loss: 0.6211 - accuracy: 0.1997 - val_loss: 0.7740 - val_accuracy: 0.0860\n",
            "Epoch 5/100\n",
            "63/63 [==============================] - 116s 2s/step - loss: 0.6206 - accuracy: 0.2102 - val_loss: 0.7781 - val_accuracy: 0.1050\n",
            "Epoch 6/100\n",
            "63/63 [==============================] - 155s 2s/step - loss: 0.6164 - accuracy: 0.2257 - val_loss: 0.7947 - val_accuracy: 0.0868\n",
            "Epoch 7/100\n",
            "63/63 [==============================] - 102s 2s/step - loss: 0.6132 - accuracy: 0.2043 - val_loss: 0.7772 - val_accuracy: 0.0886\n",
            "Epoch 8/100\n",
            "63/63 [==============================] - 102s 2s/step - loss: 0.6118 - accuracy: 0.2045 - val_loss: 0.7806 - val_accuracy: 0.1067\n",
            "Epoch 9/100\n",
            "63/63 [==============================] - 110s 2s/step - loss: 0.6128 - accuracy: 0.2694 - val_loss: 0.7644 - val_accuracy: 0.1352\n",
            "Epoch 10/100\n",
            "63/63 [==============================] - 107s 2s/step - loss: 0.6111 - accuracy: 0.2932 - val_loss: 0.7676 - val_accuracy: 0.1512\n",
            "Epoch 11/100\n",
            "63/63 [==============================] - 100s 2s/step - loss: 0.6092 - accuracy: 0.3119 - val_loss: 0.7646 - val_accuracy: 0.1486\n",
            "Epoch 12/100\n",
            "63/63 [==============================] - 154s 2s/step - loss: 0.6074 - accuracy: 0.3272 - val_loss: 0.7658 - val_accuracy: 0.1507\n",
            "Epoch 13/100\n",
            "63/63 [==============================] - 98s 2s/step - loss: 0.6095 - accuracy: 0.3247 - val_loss: 0.7638 - val_accuracy: 0.1656\n",
            "Epoch 14/100\n",
            "63/63 [==============================] - 109s 2s/step - loss: 0.6198 - accuracy: 0.2935 - val_loss: 0.7587 - val_accuracy: 0.0822\n",
            "Epoch 15/100\n",
            "63/63 [==============================] - 111s 2s/step - loss: 0.7027 - accuracy: 0.1843 - val_loss: 0.7200 - val_accuracy: 0.3771\n",
            "Epoch 16/100\n",
            "63/63 [==============================] - 155s 2s/step - loss: 0.6893 - accuracy: 0.3700 - val_loss: 0.7053 - val_accuracy: 0.3976\n",
            "Epoch 17/100\n",
            "63/63 [==============================] - 104s 2s/step - loss: 0.6963 - accuracy: 0.3383 - val_loss: 0.7173 - val_accuracy: 0.3442\n",
            "Epoch 18/100\n",
            "63/63 [==============================] - 155s 2s/step - loss: 0.6868 - accuracy: 0.3943 - val_loss: 0.7006 - val_accuracy: 0.4717\n",
            "Epoch 19/100\n",
            "63/63 [==============================] - ETA: 0s - loss: 0.6823 - accuracy: 0.4381"
          ]
        }
      ],
      "source": [
        "history = model.fit(train_dataset, validation_data=val_dataset, epochs=100)\n"
      ]
    },
    {
      "cell_type": "code",
      "execution_count": null,
      "metadata": {},
      "outputs": [],
      "source": [
        "model.save('saved_model')\n"
      ]
    },
    {
      "cell_type": "code",
      "execution_count": null,
      "metadata": {},
      "outputs": [],
      "source": [
        "def csv_to_predict(target=c.input, step=c.step, take=None):\n",
        "    sub_dataset = []\n",
        "    file = reversed(os.listdir(target))[take]\n",
        "    df = pd.read_csv(os.path.join(target, file))\n",
        "    df = data.Dataset.from_tensor_slices(df)\n",
        "    df = df.window(step, drop_remainder=True).flat_map(\n",
        "        lambda x: x.batch(c.BATCH_SIZE))\n",
        "    sub_dataset.append(df)\n",
        "\n",
        "    tensor = sub_dataset[0]\n",
        "    for dataset in sub_dataset[1:]:\n",
        "        tensor = tensor.concatenate(dataset)\n",
        "    return tensor, reversed(os.listdir(target))[take]\n"
      ]
    },
    {
      "cell_type": "code",
      "execution_count": null,
      "metadata": {},
      "outputs": [],
      "source": [
        "predict, _ = csv_to_predict(target=c.input, take=1)\n",
        "print('Prediction of video', _[0], ':')\n",
        "\n",
        "predict = predict.batch(1)\n",
        "result = model.predict(predict)\n",
        "result = np.round(result)\n",
        "for i in result:\n",
        "    print(i.T)\n"
      ]
    }
  ],
  "metadata": {
    "colab": {
      "collapsed_sections": [],
      "name": "LSTM.ipynb",
      "provenance": []
    },
    "kernelspec": {
      "display_name": "Python 3.10.5 64-bit",
      "language": "python",
      "name": "python3"
    },
    "language_info": {
      "codemirror_mode": {
        "name": "ipython",
        "version": 3
      },
      "file_extension": ".py",
      "mimetype": "text/x-python",
      "name": "python",
      "nbconvert_exporter": "python",
      "pygments_lexer": "ipython3",
      "version": "3.10.5"
    },
    "vscode": {
      "interpreter": {
        "hash": "26de051ba29f2982a8de78e945f0abaf191376122a1563185a90213a26c5da77"
      }
    }
  },
  "nbformat": 4,
  "nbformat_minor": 0
}
